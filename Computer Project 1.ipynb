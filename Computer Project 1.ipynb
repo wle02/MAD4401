{
 "cells": [
  {
   "cell_type": "code",
   "execution_count": 3,
   "id": "77ef4f5a-4d53-49bc-8903-c6e211d6583f",
   "metadata": {},
   "outputs": [],
   "source": [
    "import math\n",
    "import numpy as np\n",
    "import scipy as sp\n",
    "import pandas as pd\n",
    "import matplotlib.pyplot as plt\n",
    "import ipywidgets as widgets"
   ]
  },
  {
   "cell_type": "code",
   "execution_count": null,
   "id": "ffe7f0bf-5117-48ca-86ba-9007c6a06ee8",
   "metadata": {},
   "outputs": [],
   "source": [
    "##Question 3"
   ]
  },
  {
   "cell_type": "code",
   "execution_count": 4,
   "id": "dad174a2-c447-48b7-9f10-4a6e16dda243",
   "metadata": {},
   "outputs": [
    {
     "name": "stdout",
     "output_type": "stream",
     "text": [
      "Approximation of √131: 11.445529639720917\n",
      "Number of iterations (N): 24\n",
      "Relative Error: 5.676858312582572e-07\n"
     ]
    }
   ],
   "source": [
    "def my_sqrt(a):\n",
    "    # Define initial interval [0, a]\n",
    "    p0 = 0\n",
    "    p1 = a\n",
    "    \n",
    "    # Set the desired accuracy\n",
    "    tolerance = 1e-5\n",
    "    \n",
    "    # Initialize the number of iterations\n",
    "    N = 0\n",
    "    \n",
    "    # Perform bisection iterations\n",
    "    while abs(p1 - p0) > tolerance:\n",
    "        N += 1\n",
    "        # Calculate the midpoint\n",
    "        p_n = (p0 + p1) / 2\n",
    "        \n",
    "        # Update the interval based on the sign of f(p_n) = p_n^2 - a\n",
    "        if p_n**2 < a:\n",
    "            p0 = p_n\n",
    "        else:\n",
    "            p1 = p_n\n",
    "\n",
    "    \n",
    "    return p1, N, \n",
    "\n",
    "# Example usage:\n",
    "result, iterations, = my_sqrt(131)\n",
    "print(f\"Approximation of √131: {result}\")\n",
    "print(f\"Number of iterations (N): {iterations}\")\n",
    "print(f\"Relative Error: {np.abs((np.sqrt(131) - result) / np.sqrt(131))}\")"
   ]
  },
  {
   "cell_type": "code",
   "execution_count": null,
   "id": "f33a946a-e151-4893-a990-643bc2599021",
   "metadata": {},
   "outputs": [],
   "source": [
    "##Question 4"
   ]
  },
  {
   "cell_type": "code",
   "execution_count": 1,
   "id": "c80e267d-3db0-4980-b155-953b6a1e3983",
   "metadata": {},
   "outputs": [],
   "source": [
    "def ieee_baby(binary_string):\n",
    "    s, C, f = int(binary_string[0]), int(binary_string[1:3], 2), int(binary_string[3:], 2) / 4\n",
    "    return (-1) ** s * 2 ** (C - 1) * (1 + f)"
   ]
  },
  {
   "cell_type": "code",
   "execution_count": null,
   "id": "2561d246-33bf-4c9d-a28f-84e49eb13588",
   "metadata": {},
   "outputs": [],
   "source": [
    "##Part A"
   ]
  },
  {
   "cell_type": "code",
   "execution_count": 1,
   "id": "ba32b8b1-1ace-4c2d-b742-b0ced057a7d3",
   "metadata": {},
   "outputs": [
    {
     "data": {
      "image/png": "[encoded data removed]",
      "text/plain": [
       "<Figure size 640x480 with 1 Axes>"
      ]
     },
     "metadata": {},
     "output_type": "display_data"
    },
    {
     "name": "stdout",
     "output_type": "stream",
     "text": [
      "Number of possible IEEE Baby format numbers: 64\n"
     ]
    }
   ],
   "source": [
    "import matplotlib.pyplot as plt\n",
    "\n",
    "# List of all possible IEEE Baby format representations\n",
    "ieee_baby_numbers = []\n",
    "\n",
    "# Generate all combinations\n",
    "for sign in ['0', '1']:\n",
    "    for char in ['00', '01', '10', '11']:\n",
    "        for frac in ['000', '001', '010', '011', '100', '101', '110', '111']:\n",
    "            ieee_baby_numbers.append(sign + char + frac)\n",
    "\n",
    "# Convert IEEE Baby format to decimal\n",
    "decimal_numbers = []\n",
    "for ieee_baby in ieee_baby_numbers:\n",
    "    s, C, f = int(ieee_baby[0]), int(ieee_baby[1:3], 2), int(ieee_baby[3:], 2) / 8\n",
    "    decimal_numbers.append((-1) ** s * 2 ** (C - 1) * (1 + f))\n",
    "\n",
    "# Plot the numbers on the number line\n",
    "plt.plot(decimal_numbers, [0] * len(decimal_numbers), 'ro', markersize=5)\n",
    "plt.xlabel('Decimal Numbers')\n",
    "plt.title('IEEE Baby Format Numbers on the Number Line')\n",
    "plt.axhline(0, color='black', linewidth=0.5)\n",
    "plt.grid(True)\n",
    "plt.show()\n",
    "\n",
    "# Number of possible IEEE Baby format numbers\n",
    "num_possible_numbers = len(ieee_baby_numbers)\n",
    "print(f\"Number of possible IEEE Baby format numbers: {num_possible_numbers}\")\n"
   ]
  },
  {
   "cell_type": "code",
   "execution_count": null,
   "id": "be451736-61bc-4270-98e0-3520db14b73e",
   "metadata": {},
   "outputs": [],
   "source": [
    "##Part B"
   ]
  },
  {
   "cell_type": "code",
   "execution_count": 3,
   "id": "9cb9e3bf-f2d1-4960-ad8a-24857fd75391",
   "metadata": {},
   "outputs": [
    {
     "name": "stdout",
     "output_type": "stream",
     "text": [
      "Largest gap between two numbers: 1.0\n",
      "Smallest gap between any two numbers: 0.0625\n",
      "Smallest positive IEEE Baby float: 0.5\n"
     ]
    }
   ],
   "source": [
    "# Sort the decimal numbers\n",
    "sorted_decimal_numbers = sorted(decimal_numbers)\n",
    "\n",
    "# Calculate the differences between consecutive numbers\n",
    "differences = [sorted_decimal_numbers[i + 1] - sorted_decimal_numbers[i] for i in range(len(sorted_decimal_numbers) - 1)]\n",
    "\n",
    "# Largest gap\n",
    "largest_gap = max(differences)\n",
    "\n",
    "# Smallest gap\n",
    "smallest_gap = min(differences)\n",
    "\n",
    "# Smallest positive IEEE Baby float\n",
    "smallest_positive_float = min(num for num in sorted_decimal_numbers if num > 0)\n",
    "\n",
    "print(f\"Largest gap between two numbers: {largest_gap}\")\n",
    "print(f\"Smallest gap between any two numbers: {smallest_gap}\")\n",
    "print(f\"Smallest positive IEEE Baby float: {smallest_positive_float}\")\n"
   ]
  },
  {
   "cell_type": "code",
   "execution_count": null,
   "id": "82959fc3-b27b-4804-9cfd-94c6454d43c1",
   "metadata": {},
   "outputs": [],
   "source": [
    "##Part C"
   ]
  },
  {
   "cell_type": "code",
   "execution_count": 5,
   "id": "2c498183-a5c2-4c66-9b1d-e09cadc403c4",
   "metadata": {},
   "outputs": [
    {
     "name": "stdout",
     "output_type": "stream",
     "text": [
      "Number of positive IEEE Baby format numbers: 32\n",
      "Number of negative IEEE Baby format numbers: 32\n"
     ]
    }
   ],
   "source": [
    "# Count positive and negative numbers\n",
    "positive_count = sum(1 for ieee_baby in ieee_baby_numbers if ieee_baby[0] == '0')\n",
    "negative_count = sum(1 for ieee_baby in ieee_baby_numbers if ieee_baby[0] == '1')\n",
    "\n",
    "print(f\"Number of positive IEEE Baby format numbers: {positive_count}\")\n",
    "print(f\"Number of negative IEEE Baby format numbers: {negative_count}\")\n"
   ]
  }
 ],
 "metadata": {
  "kernelspec": {
   "display_name": "Python 3 (ipykernel)",
   "language": "python",
   "name": "python3"
  },
  "language_info": {
   "codemirror_mode": {
    "name": "ipython",
    "version": 3
   },
   "file_extension": ".py",
   "mimetype": "text/x-python",
   "name": "python",
   "nbconvert_exporter": "python",
   "pygments_lexer": "ipython3",
   "version": "3.11.5"
  }
 },
 "nbformat": 4,
 "nbformat_minor": 5
}
